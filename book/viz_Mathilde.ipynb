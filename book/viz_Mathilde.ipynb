{
 "cells": [
  {
   "cell_type": "markdown",
   "metadata": {},
   "source": [
    "# Features x & y : Mathilde"
   ]
  },
  {
   "cell_type": "code",
   "execution_count": 1,
   "id": "b4ff0e6e-63a7-4d1f-81ff-260cf389599e",
   "metadata": {},
   "outputs": [],
   "source": [
    "import pandas as pd\n",
    "import numpy as np\n",
    "import seaborn as sns\n",
    "import matplotlib.pyplot as plt\n",
    "\n",
    "#! pip install tqdm\n",
    "from tqdm import tqdm\n",
    "import sys"
   ]
  },
  {
   "cell_type": "code",
   "execution_count": 2,
   "id": "4eef1c43-82ed-4426-98af-a6664dd809a2",
   "metadata": {},
   "outputs": [],
   "source": [
    "DATA_FOLDER = \"./data/\"\n",
    "PATHS_AND_GRAPH = DATA_FOLDER + \"wikispeedia_paths-and-graph/\"\n",
    "PATHS_FINISHED = PATHS_AND_GRAPH + \"paths_finished.tsv\"\n",
    "PATHS_UNFINISHED = PATHS_AND_GRAPH + \"paths_unfinished.tsv\""
   ]
  },
  {
   "cell_type": "code",
   "execution_count": 3,
   "id": "5b68e189-2551-4d5e-94d1-bd347e668ec4",
   "metadata": {},
   "outputs": [
    {
     "data": {
      "text/html": [
       "<div>\n",
       "<style scoped>\n",
       "    .dataframe tbody tr th:only-of-type {\n",
       "        vertical-align: middle;\n",
       "    }\n",
       "\n",
       "    .dataframe tbody tr th {\n",
       "        vertical-align: top;\n",
       "    }\n",
       "\n",
       "    .dataframe thead th {\n",
       "        text-align: right;\n",
       "    }\n",
       "</style>\n",
       "<table border=\"1\" class=\"dataframe\">\n",
       "  <thead>\n",
       "    <tr style=\"text-align: right;\">\n",
       "      <th></th>\n",
       "      <th>hashedIpAddress</th>\n",
       "      <th>timestamp</th>\n",
       "      <th>durationInSec</th>\n",
       "      <th>path</th>\n",
       "      <th>rating</th>\n",
       "    </tr>\n",
       "  </thead>\n",
       "  <tbody>\n",
       "    <tr>\n",
       "      <th>0</th>\n",
       "      <td>6a3701d319fc3754</td>\n",
       "      <td>2011-02-15 03:26:49</td>\n",
       "      <td>166</td>\n",
       "      <td>14th_century;15th_century;16th_century;Pacific...</td>\n",
       "      <td>NaN</td>\n",
       "    </tr>\n",
       "    <tr>\n",
       "      <th>1</th>\n",
       "      <td>3824310e536af032</td>\n",
       "      <td>2012-08-12 06:36:52</td>\n",
       "      <td>88</td>\n",
       "      <td>14th_century;Europe;Africa;Atlantic_slave_trad...</td>\n",
       "      <td>3.0</td>\n",
       "    </tr>\n",
       "    <tr>\n",
       "      <th>2</th>\n",
       "      <td>415612e93584d30e</td>\n",
       "      <td>2012-10-03 21:10:40</td>\n",
       "      <td>138</td>\n",
       "      <td>14th_century;Niger;Nigeria;British_Empire;Slav...</td>\n",
       "      <td>NaN</td>\n",
       "    </tr>\n",
       "    <tr>\n",
       "      <th>3</th>\n",
       "      <td>64dd5cd342e3780c</td>\n",
       "      <td>2010-02-08 07:25:25</td>\n",
       "      <td>37</td>\n",
       "      <td>14th_century;Renaissance;Ancient_Greece;Greece</td>\n",
       "      <td>NaN</td>\n",
       "    </tr>\n",
       "    <tr>\n",
       "      <th>4</th>\n",
       "      <td>015245d773376aab</td>\n",
       "      <td>2013-04-23 15:27:08</td>\n",
       "      <td>175</td>\n",
       "      <td>14th_century;Italy;Roman_Catholic_Church;HIV;R...</td>\n",
       "      <td>3.0</td>\n",
       "    </tr>\n",
       "  </tbody>\n",
       "</table>\n",
       "</div>"
      ],
      "text/plain": [
       "    hashedIpAddress           timestamp  durationInSec  \\\n",
       "0  6a3701d319fc3754 2011-02-15 03:26:49            166   \n",
       "1  3824310e536af032 2012-08-12 06:36:52             88   \n",
       "2  415612e93584d30e 2012-10-03 21:10:40            138   \n",
       "3  64dd5cd342e3780c 2010-02-08 07:25:25             37   \n",
       "4  015245d773376aab 2013-04-23 15:27:08            175   \n",
       "\n",
       "                                                path  rating  \n",
       "0  14th_century;15th_century;16th_century;Pacific...     NaN  \n",
       "1  14th_century;Europe;Africa;Atlantic_slave_trad...     3.0  \n",
       "2  14th_century;Niger;Nigeria;British_Empire;Slav...     NaN  \n",
       "3     14th_century;Renaissance;Ancient_Greece;Greece     NaN  \n",
       "4  14th_century;Italy;Roman_Catholic_Church;HIV;R...     3.0  "
      ]
     },
     "execution_count": 3,
     "metadata": {},
     "output_type": "execute_result"
    }
   ],
   "source": [
    "# loading finished paths\n",
    "paths_finished = pd.read_csv(\n",
    "    PATHS_FINISHED,\n",
    "    sep=\"\\t\",\n",
    "    header=None,\n",
    "    names=[\"hashedIpAddress\", \"timestamp\", \"durationInSec\", \"path\", \"rating\"],\n",
    "    encoding=\"utf-8\",\n",
    "    skiprows=16,\n",
    ").copy(deep=True)\n",
    "paths_finished[\"timestamp\"] = pd.to_datetime(paths_finished[\"timestamp\"], unit=\"s\")\n",
    "paths_finished.head()"
   ]
  },
  {
   "cell_type": "code",
   "execution_count": 4,
   "id": "23744334-5014-4c34-b0dd-24d856f0c650",
   "metadata": {},
   "outputs": [
    {
     "data": {
      "text/plain": [
       "['plaintext_articles',\n",
       " 'wikispeedia_articles_html.tar.gz',\n",
       " 'wikispeedia_articles_plaintext.tar.gz',\n",
       " 'wikispeedia_paths-and-graph',\n",
       " 'wikispeedia_paths-and-graph.tar.gz',\n",
       " 'wpcd']"
      ]
     },
     "execution_count": 4,
     "metadata": {},
     "output_type": "execute_result"
    }
   ],
   "source": [
    "import os\n",
    "\n",
    "os.listdir(\"./data\")"
   ]
  },
  {
   "cell_type": "code",
   "execution_count": 5,
   "id": "b9590415-6363-4b2c-817b-241d46dfb5a0",
   "metadata": {},
   "outputs": [
    {
     "data": {
      "text/html": [
       "<div>\n",
       "<style scoped>\n",
       "    .dataframe tbody tr th:only-of-type {\n",
       "        vertical-align: middle;\n",
       "    }\n",
       "\n",
       "    .dataframe tbody tr th {\n",
       "        vertical-align: top;\n",
       "    }\n",
       "\n",
       "    .dataframe thead th {\n",
       "        text-align: right;\n",
       "    }\n",
       "</style>\n",
       "<table border=\"1\" class=\"dataframe\">\n",
       "  <thead>\n",
       "    <tr style=\"text-align: right;\">\n",
       "      <th></th>\n",
       "      <th>hashedIpAddress</th>\n",
       "      <th>timestamp</th>\n",
       "      <th>durationInSec</th>\n",
       "      <th>path</th>\n",
       "      <th>target</th>\n",
       "      <th>type</th>\n",
       "    </tr>\n",
       "  </thead>\n",
       "  <tbody>\n",
       "    <tr>\n",
       "      <th>0</th>\n",
       "      <td>2426091a53125110</td>\n",
       "      <td>2011-02-07 05:02:15</td>\n",
       "      <td>1804</td>\n",
       "      <td>Obi-Wan_Kenobi</td>\n",
       "      <td>Microsoft</td>\n",
       "      <td>timeout</td>\n",
       "    </tr>\n",
       "    <tr>\n",
       "      <th>1</th>\n",
       "      <td>26141fd878806294</td>\n",
       "      <td>2011-02-07 05:14:11</td>\n",
       "      <td>1805</td>\n",
       "      <td>Julius_Caesar</td>\n",
       "      <td>Caracas</td>\n",
       "      <td>timeout</td>\n",
       "    </tr>\n",
       "    <tr>\n",
       "      <th>2</th>\n",
       "      <td>2b015fb8181c48f2</td>\n",
       "      <td>2011-02-07 15:00:19</td>\n",
       "      <td>1818</td>\n",
       "      <td>Malawi;Democracy;Alexander_the_Great</td>\n",
       "      <td>First_Crusade</td>\n",
       "      <td>timeout</td>\n",
       "    </tr>\n",
       "    <tr>\n",
       "      <th>3</th>\n",
       "      <td>53a53bc244e08a6a</td>\n",
       "      <td>2011-02-07 16:06:01</td>\n",
       "      <td>49</td>\n",
       "      <td>Paraguay</td>\n",
       "      <td>Mount_St._Helens</td>\n",
       "      <td>restart</td>\n",
       "    </tr>\n",
       "    <tr>\n",
       "      <th>4</th>\n",
       "      <td>53a53bc244e08a6a</td>\n",
       "      <td>2011-02-07 17:18:25</td>\n",
       "      <td>1808</td>\n",
       "      <td>Paraguay;Bolivia</td>\n",
       "      <td>Mount_St._Helens</td>\n",
       "      <td>timeout</td>\n",
       "    </tr>\n",
       "  </tbody>\n",
       "</table>\n",
       "</div>"
      ],
      "text/plain": [
       "    hashedIpAddress           timestamp  durationInSec  \\\n",
       "0  2426091a53125110 2011-02-07 05:02:15           1804   \n",
       "1  26141fd878806294 2011-02-07 05:14:11           1805   \n",
       "2  2b015fb8181c48f2 2011-02-07 15:00:19           1818   \n",
       "3  53a53bc244e08a6a 2011-02-07 16:06:01             49   \n",
       "4  53a53bc244e08a6a 2011-02-07 17:18:25           1808   \n",
       "\n",
       "                                   path            target     type  \n",
       "0                        Obi-Wan_Kenobi         Microsoft  timeout  \n",
       "1                         Julius_Caesar           Caracas  timeout  \n",
       "2  Malawi;Democracy;Alexander_the_Great     First_Crusade  timeout  \n",
       "3                              Paraguay  Mount_St._Helens  restart  \n",
       "4                      Paraguay;Bolivia  Mount_St._Helens  timeout  "
      ]
     },
     "execution_count": 5,
     "metadata": {},
     "output_type": "execute_result"
    }
   ],
   "source": [
    "# loading unfinished paths\n",
    "paths_unfinished = pd.read_csv(\n",
    "    PATHS_UNFINISHED,\n",
    "    sep=\"\\t\",\n",
    "    header=None,\n",
    "    names=[\"hashedIpAddress\", \"timestamp\", \"durationInSec\", \"path\", \"target\", \"type\"],\n",
    "    encoding=\"utf-8\",\n",
    "    skiprows=17,\n",
    ").copy(deep=True)\n",
    "paths_unfinished[\"timestamp\"] = pd.to_datetime(paths_unfinished[\"timestamp\"], unit=\"s\")\n",
    "paths_unfinished.head()"
   ]
  },
  {
   "cell_type": "markdown",
   "id": "9f3dba86-a398-4751-8152-e229d60272f3",
   "metadata": {},
   "source": [
    "###  "
   ]
  },
  {
   "cell_type": "markdown",
   "id": "9e7725f8-7c56-4e33-b5fc-615000d1a784",
   "metadata": {},
   "source": [
    "### Additional datasets needed for path_length metric"
   ]
  },
  {
   "cell_type": "code",
   "execution_count": 6,
   "id": "b119a033-2dfb-45e0-832d-93665f3a997a",
   "metadata": {},
   "outputs": [
    {
     "data": {
      "text/plain": [
       "0    [0, _, _, _, _, _, 3, 3, 3, 3, 3, 3, 2, 5, 6, ...\n",
       "1    [_, 0, _, _, _, _, 2, 2, 2, 2, 2, 3, 2, 5, 6, ...\n",
       "2    [_, _, 0, _, _, _, 3, 3, 2, 2, 2, 4, 2, 5, 6, ...\n",
       "3    [_, _, _, 0, _, _, 3, 3, 3, 3, 3, 3, 2, 5, 6, ...\n",
       "4    [_, _, _, _, 0, _, 2, 2, 3, 2, 3, 3, 3, 5, 6, ...\n",
       "Name: shortest path, dtype: object"
      ]
     },
     "metadata": {},
     "output_type": "display_data"
    }
   ],
   "source": [
    "# Loading shortest path distance matrix\n",
    "SHORTEST_PATH_MATRIX = PATHS_AND_GRAPH + \"shortest-path-distance-matrix.txt\"\n",
    "shortest_path_distance_matrix = pd.read_csv(\n",
    "    SHORTEST_PATH_MATRIX,\n",
    "    sep=\"\\t\",\n",
    "    names=[\"shortest path\"],\n",
    "    header=None,\n",
    "    encoding=\"utf-8\",\n",
    "    skiprows=17,\n",
    ").copy(deep=True)\n",
    "shortest_path_distance_matrix = shortest_path_distance_matrix[\"shortest path\"].apply(\n",
    "    lambda x: list(x)\n",
    ")  # splitting string into list\n",
    "display(shortest_path_distance_matrix.head())"
   ]
  },
  {
   "cell_type": "code",
   "execution_count": 7,
   "id": "209c5d4b-72eb-4219-833f-61069c715950",
   "metadata": {},
   "outputs": [
    {
     "data": {
      "text/html": [
       "<div>\n",
       "<style scoped>\n",
       "    .dataframe tbody tr th:only-of-type {\n",
       "        vertical-align: middle;\n",
       "    }\n",
       "\n",
       "    .dataframe tbody tr th {\n",
       "        vertical-align: top;\n",
       "    }\n",
       "\n",
       "    .dataframe thead th {\n",
       "        text-align: right;\n",
       "    }\n",
       "</style>\n",
       "<table border=\"1\" class=\"dataframe\">\n",
       "  <thead>\n",
       "    <tr style=\"text-align: right;\">\n",
       "      <th></th>\n",
       "      <th>article name</th>\n",
       "    </tr>\n",
       "  </thead>\n",
       "  <tbody>\n",
       "    <tr>\n",
       "      <th>0</th>\n",
       "      <td>%C3%81ed%C3%A1n_mac_Gabr%C3%A1in</td>\n",
       "    </tr>\n",
       "    <tr>\n",
       "      <th>1</th>\n",
       "      <td>%C3%85land</td>\n",
       "    </tr>\n",
       "    <tr>\n",
       "      <th>2</th>\n",
       "      <td>%C3%89douard_Manet</td>\n",
       "    </tr>\n",
       "    <tr>\n",
       "      <th>3</th>\n",
       "      <td>%C3%89ire</td>\n",
       "    </tr>\n",
       "    <tr>\n",
       "      <th>4</th>\n",
       "      <td>%C3%93engus_I_of_the_Picts</td>\n",
       "    </tr>\n",
       "  </tbody>\n",
       "</table>\n",
       "</div>"
      ],
      "text/plain": [
       "                       article name\n",
       "0  %C3%81ed%C3%A1n_mac_Gabr%C3%A1in\n",
       "1                        %C3%85land\n",
       "2                %C3%89douard_Manet\n",
       "3                         %C3%89ire\n",
       "4        %C3%93engus_I_of_the_Picts"
      ]
     },
     "metadata": {},
     "output_type": "display_data"
    }
   ],
   "source": [
    "# loading articles dataset\n",
    "ARTICLES = PATHS_AND_GRAPH + \"articles.tsv\"\n",
    "articles = pd.read_csv(\n",
    "    ARTICLES,\n",
    "    sep=\"\\t\",\n",
    "    header=None,\n",
    "    encoding=\"utf-8\",\n",
    "    names=[\"article name\"],\n",
    "    skiprows=12,\n",
    ").copy(deep=True)\n",
    "display(articles.head())"
   ]
  },
  {
   "cell_type": "markdown",
   "id": "0c58562d-0fd0-499d-8ab3-31ecf33be665",
   "metadata": {},
   "source": [
    "## Path length metric: Are longer paths more challenging? Do they lead to giving up?\n",
    "(Look at path length, ratings and giving up rate)"
   ]
  },
  {
   "cell_type": "code",
   "execution_count": 8,
   "id": "18739c8d-2d44-4862-a1a3-3a1dd5793fe6",
   "metadata": {},
   "outputs": [
    {
     "name": "stdout",
     "output_type": "stream",
     "text": [
      "1) Removing mistakes from target column...\n",
      "2) Removing back clicks and splitting paths...\n",
      "100%|██████████████████████████████████████████████████████████████████████████| 51318/51318 [00:46<00:00, 1102.63it/s]\n",
      "3) Computing optimal finished path length...\n",
      "100%|███████████████████████████████████████████████████████████████████████████| 51318/51318 [01:07<00:00, 759.72it/s]\n",
      "Mean optimal path length for finished games: 2.85\n",
      "4) Computing optimal unfinished path length...\n",
      "100%|███████████████████████████████████████████████████████████████████████████| 24846/24846 [00:30<00:00, 804.44it/s]\n",
      "Mean optimal path length for unfinished games: 3.23\n",
      "A longer optimal path length might cause more restarts and timouts, this is a metric we can further explore!\n",
      "5) Plotting rating and finished path length...\n"
     ]
    },
    {
     "data": {
      "image/png": "[encoded data removed]",
      "text/plain": [
       "<Figure size 640x480 with 1 Axes>"
      ]
     },
     "metadata": {},
     "output_type": "display_data"
    },
    {
     "name": "stdout",
     "output_type": "stream",
     "text": [
      "There seems to be a positive correlation between path length and rating. \n",
      "This is a metric we can potentially use after further testing and investigation.\n"
     ]
    }
   ],
   "source": [
    "# runtime = ~2min30sec\n",
    "\n",
    "paths_finished_copy = paths_finished.copy(deep=True)\n",
    "paths_unfinished_copy = paths_unfinished.copy(deep=True)\n",
    "pd.options.mode.chained_assignment = None  # to remove warning\n",
    "\n",
    "# Delete datapoints from 'paths_unfinished_copy' if 'target' isn't part of article list from 'articles' dataframe\n",
    "print(\"1) Removing mistakes from target column...\")\n",
    "paths_unfinished_copy = paths_unfinished_copy[\n",
    "    paths_unfinished_copy[\"target\"].isin(articles[\"article name\"])\n",
    "]\n",
    "\n",
    "# Removing back clicks (<) and splitting paths\n",
    "print(\"2) Removing back clicks and splitting paths...\")\n",
    "for i in tqdm(range(len(paths_finished_copy)), file=sys.stdout):\n",
    "    paths_finished_copy[\"path\"].iloc[i] = paths_finished_copy[\"path\"].iloc[i].split(\";\")\n",
    "    for item in paths_finished_copy[\"path\"].iloc[i].copy():\n",
    "        if item == \"<\":\n",
    "            paths_finished_copy[\"path\"].iloc[i].remove(item)\n",
    "\n",
    "\n",
    "## Comparing optimal path length between finished and unfinished\n",
    "\n",
    "\n",
    "# function computing optimal path length\n",
    "def mean_optimal_path_length(paths, finished, shortest_path_distance_matrix):\n",
    "    mean = np.zeros((len(paths), 1))\n",
    "    for i in tqdm(range(len(mean)), file=sys.stdout):\n",
    "        if finished == True:\n",
    "            start_article = paths[\"path\"][i][0]\n",
    "            end_article = paths[\"path\"][i][-1]\n",
    "        else:\n",
    "            start_article = paths[\"path\"].iloc[i].split(\";\")[0]\n",
    "            end_article = paths[\"target\"].iloc[i]\n",
    "        start_index = articles[articles[\"article name\"] == start_article].index[0]\n",
    "        end_index = articles[articles[\"article name\"] == end_article].index[0]\n",
    "        if shortest_path_distance_matrix[start_index][end_index] == \"_\":\n",
    "            mean[i] = -1  # 'long peper' error !!!\n",
    "        else:\n",
    "            mean[i] = shortest_path_distance_matrix[start_index][end_index]\n",
    "    return mean.mean()\n",
    "\n",
    "\n",
    "print(\"3) Computing optimal finished path length...\")\n",
    "mean_finished_optimal_path_length = mean_optimal_path_length(\n",
    "    paths_finished_copy, True, shortest_path_distance_matrix\n",
    ")  # change to only take unique path datapoints !!!\n",
    "print(\n",
    "    \"Mean optimal path length for finished games:\",\n",
    "    \"%.2f\" % mean_finished_optimal_path_length,\n",
    ")\n",
    "\n",
    "print(\"4) Computing optimal unfinished path length...\")\n",
    "mean_unfinished_optimal_path_length = mean_optimal_path_length(\n",
    "    paths_unfinished_copy, False, shortest_path_distance_matrix\n",
    ")\n",
    "print(\n",
    "    \"Mean optimal path length for unfinished games:\",\n",
    "    \"%.2f\" % mean_unfinished_optimal_path_length,\n",
    ")\n",
    "print(\n",
    "    \"A longer optimal path length might cause more restarts and timouts, this is a metric we can further explore!\"\n",
    ")\n",
    "\n",
    "# Exploring possible correlation between rating and finished path length\n",
    "print(\"5) Plotting rating and finished path length...\")\n",
    "paths_finished_copy_woNan = paths_finished_copy.dropna(\n",
    "    subset=[\"rating\"]\n",
    ")  # Remove nans from the 'rating' columns\n",
    "paths_finished_copy_woNan = paths_finished_copy_woNan[\n",
    "    paths_finished_copy_woNan[\"path\"].apply(lambda x: len(x) <= 200)\n",
    "]  # Remove aberrant path length value\n",
    "\n",
    "plt.scatter(\n",
    "    paths_finished_copy_woNan[\"rating\"],\n",
    "    paths_finished_copy_woNan[\"path\"].apply(lambda x: len(x)),\n",
    "    alpha=0.3,\n",
    "    s=10,\n",
    "    color=\"orange\",\n",
    ")\n",
    "plt.ylabel(\"Path length\")\n",
    "plt.xlabel(\"Rating\")\n",
    "plt.xticks(ticks=[1, 2, 3, 4, 5])\n",
    "plt.title(\"Path length vs Rating\")\n",
    "plt.show()\n",
    "\n",
    "print(\n",
    "    \"There seems to be a positive correlation between path length and rating. \\nThis is a metric we can potentially use after further testing and investigation.\"\n",
    ")"
   ]
  },
  {
   "cell_type": "markdown",
   "id": "a9757c20-68c7-4380-8cc9-f528b7e07156",
   "metadata": {},
   "source": [
    "## "
   ]
  },
  {
   "cell_type": "markdown",
   "id": "819321fb-84b4-445b-afa6-fca3e7a40042",
   "metadata": {},
   "source": [
    "## Link position metric:  Find position of clicked link on article page\n",
    "Find word count to link on html page for second element in successive_pairs in first elements html page "
   ]
  },
  {
   "cell_type": "code",
   "execution_count": 9,
   "id": "6ce02788-9d5d-4606-ad10-b2e874a2072f",
   "metadata": {},
   "outputs": [
    {
     "name": "stdout",
     "output_type": "stream",
     "text": [
      "1) Removing back clicks and splitting paths...\n",
      "100%|██████████████████████████████████████████████████████████████████████████| 51318/51318 [00:39<00:00, 1312.73it/s]\n",
      "2) Computing position for every successive pair in finished paths...\n",
      "100%|███████████████████████████████████████████████████████████████████████████| 51318/51318 [00:53<00:00, 966.42it/s]\n",
      "3) Comparing whether next clicked link is under or over threshold...\n",
      "Under threshold count: 94868 \n",
      "Over threshold count: 77201\n"
     ]
    },
    {
     "data": {
      "image/png": "[encoded data removed]",
      "text/plain": [
       "<Figure size 640x480 with 1 Axes>"
      ]
     },
     "metadata": {},
     "output_type": "display_data"
    },
    {
     "name": "stdout",
     "output_type": "stream",
     "text": [
      "We can defenitely use this page position metric! \n",
      "The majority of players seams to not scroll to much before clicking on the next link.\n",
      "4) Better metric: looking at character count before clicked link for every edge or for every player...\n"
     ]
    },
    {
     "data": {
      "image/png": "[encoded data removed]",
      "text/plain": [
       "<Figure size 640x480 with 1 Axes>"
      ]
     },
     "metadata": {},
     "output_type": "display_data"
    },
    {
     "data": {
      "image/png": "[encoded data removed]",
      "text/plain": [
       "<Figure size 640x480 with 1 Axes>"
      ]
     },
     "metadata": {},
     "output_type": "display_data"
    },
    {
     "name": "stdout",
     "output_type": "stream",
     "text": [
      "It is worth it to further investigate this metric, and see how it relates to good players. \n",
      "Also, it would be interesting to compare this metric in finished and unfinised games.\n"
     ]
    }
   ],
   "source": [
    "# runtime = ~1min30\n",
    "paths_finished_copy = paths_finished.copy(deep=True)\n",
    "\n",
    "# Removing back clicks (<) and splitting paths\n",
    "print(\"1) Removing back clicks and splitting paths...\")\n",
    "for i in tqdm(range(len(paths_finished_copy)), file=sys.stdout):\n",
    "    paths_finished_copy[\"path\"].iloc[i] = paths_finished_copy[\"path\"].iloc[i].split(\";\")\n",
    "    for item in paths_finished_copy[\"path\"].iloc[i].copy():\n",
    "        if item == \"<\":\n",
    "            paths_finished_copy[\"path\"].iloc[i].remove(item)\n",
    "\n",
    "# Grouping successive pairs\n",
    "successive_pairs = [\n",
    "    [(x[i], x[i + 1]) for i in range(len(x) - 1)]\n",
    "    for x in paths_finished_copy[\"path\"].to_list()\n",
    "]\n",
    "\n",
    "\n",
    "# Function that returns path to plaintext article\n",
    "def path_to_plaintext(article_name):\n",
    "    article_name_undsc = article_name.replace(\" \", \"_\")\n",
    "    ALL_PLAINTEXT = \"./data/plaintext_articles/\"\n",
    "    path = ALL_PLAINTEXT + article_name_undsc + \".txt\"\n",
    "    return path\n",
    "\n",
    "\n",
    "# Function returning character count before clicked link of a sucessive pair (that is, position of second word in seccessive pair in first word in pair's article)\n",
    "def find_word_position(successive_pair):\n",
    "    target_words = successive_pair[1].replace(\"_\", \" \")\n",
    "    article = path_to_plaintext(successive_pair[0])\n",
    "\n",
    "    with open(article, encoding=\"utf8\") as file:\n",
    "        content = file.read()\n",
    "        try:\n",
    "            return content.index(target_words)\n",
    "        except:  # Mistake because sometimes word in is html file but not in text file. To be treated later.\n",
    "            # print(f\"The group of words '{successive_pair[1]}' was not found in the file '{successive_pair[0]}'.\")\n",
    "            return 0\n",
    "\n",
    "\n",
    "# Computing maximum path length\n",
    "path_length = paths_finished_copy[\"path\"].apply(lambda x: len(x))\n",
    "max_path_length = path_length.max()\n",
    "\n",
    "\n",
    "# Compute position for every pair in finished paths\n",
    "print(\"2) Computing position for every successive pair in finished paths...\")\n",
    "positions_of_next_clicked_link = np.zeros((len(successive_pairs), max_path_length - 1))\n",
    "for i in tqdm(range(len(successive_pairs)), file=sys.stdout):\n",
    "    for j in range(len(successive_pairs[i])):\n",
    "        positions_of_next_clicked_link[i, j] = find_word_position(\n",
    "            successive_pairs[i][j]\n",
    "        )\n",
    "\n",
    "# Computing average position of next clicked link\n",
    "average_position = positions_of_next_clicked_link[\n",
    "    np.nonzero(positions_of_next_clicked_link)\n",
    "].mean()\n",
    "\n",
    "\n",
    "# Compare whether next clicked link is under or over threshold\n",
    "print(\"3) Comparing whether next clicked link is under or over threshold...\")\n",
    "# Assuming a threshold of character count before word position\n",
    "threshold = 4000  # try different ones maybe\n",
    "under_threshold = np.count_nonzero(\n",
    "    positions_of_next_clicked_link[np.nonzero(positions_of_next_clicked_link)]\n",
    "    < threshold\n",
    ")\n",
    "over_threshold = np.count_nonzero(\n",
    "    positions_of_next_clicked_link[np.nonzero(positions_of_next_clicked_link)]\n",
    "    > threshold\n",
    ")\n",
    "print(\n",
    "    \"Under threshold count:\", under_threshold, \"\\nOver threshold count:\", over_threshold\n",
    ")\n",
    "\n",
    "groups = [\"Under\", \"Over\"]\n",
    "counts = [under_threshold, over_threshold]\n",
    "bar_colors = [\"tab:red\", \"tab:orange\"]\n",
    "plt.bar(groups, counts, color=bar_colors)\n",
    "plt.ylabel(\n",
    "    \"Successive pair count\"\n",
    ")  # maybe aglomerate by players, not leave by successive pair count\n",
    "plt.title(\"Under vs over scrolling page threshold\")\n",
    "plt.show()\n",
    "\n",
    "print(\n",
    "    \"We can defenitely use this page position metric! \\nThe majority of players seams to not scroll to much before clicking on the next link.\"\n",
    ")\n",
    "\n",
    "\n",
    "# Maybe a better metric: simply looking at the character count before clicked link\n",
    "print(\n",
    "    \"4) Better metric: looking at character count before clicked link for every edge or for every player...\"\n",
    ")\n",
    "\n",
    "# Histogram on linear scale\n",
    "plt.subplot(211)\n",
    "hist, bins, _ = plt.hist(\n",
    "    positions_of_next_clicked_link[np.nonzero(positions_of_next_clicked_link)], bins=100\n",
    ")\n",
    "plt.title(\"Distribution of character count before clicked link\")\n",
    "plt.xlabel(\"Character count\")\n",
    "plt.ylabel(\"Successive pair count\")\n",
    "plt.show()\n",
    "\n",
    "# Histogram on log scale\n",
    "logbins = np.logspace(\n",
    "    np.log10(bins[0]), np.log10(bins[-1]), len(bins)\n",
    ")  # Use non-equal bin sizes, such that they look equal on log scale.\n",
    "plt.subplot(212)\n",
    "plt.hist(\n",
    "    positions_of_next_clicked_link[np.nonzero(positions_of_next_clicked_link)],\n",
    "    bins=logbins,\n",
    ")\n",
    "plt.xscale(\"log\")\n",
    "plt.xlabel(\"Character count (log scale)\")\n",
    "plt.ylabel(\"Successive pair count\")\n",
    "plt.show()\n",
    "\n",
    "print(\n",
    "    \"It is worth it to further investigate this metric, and see how it relates to good players. \\nAlso, it would be interesting to compare this metric in finished and unfinised games.\"\n",
    ")"
   ]
  }
 ],
 "metadata": {
  "kernelspec": {
   "display_name": "Python 3 (ipykernel)",
   "language": "python",
   "name": "python3"
  },
  "language_info": {
   "codemirror_mode": {
    "name": "ipython",
    "version": 3
   },
   "file_extension": ".py",
   "mimetype": "text/x-python",
   "name": "python",
   "nbconvert_exporter": "python",
   "pygments_lexer": "ipython3",
   "version": "3.9.18"
  }
 },
 "nbformat": 4,
 "nbformat_minor": 5
}
