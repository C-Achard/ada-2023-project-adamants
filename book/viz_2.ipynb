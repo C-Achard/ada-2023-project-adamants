{
 "cells": [
  {
   "cell_type": "markdown",
   "id": "6e506177-0429-4ff5-9df1-ed1fd7e2322a",
   "metadata": {},
   "source": [
    "# Features 2 : Path length and player persistence"
   ]
  },
  {
   "cell_type": "markdown",
   "id": "82c7e57d-87ae-4939-ad22-d3302f609fff",
   "metadata": {},
   "source": [
    "## Importing libraries "
   ]
  },
  {
   "cell_type": "code",
   "execution_count": 4,
   "id": "b4ff0e6e-63a7-4d1f-81ff-260cf389599e",
   "metadata": {},
   "outputs": [],
   "source": [
    "import pandas as pd\n",
    "import numpy as np\n",
    "import seaborn as sns\n",
    "import matplotlib.pyplot as plt\n",
    "\n",
    "from tqdm import tqdm\n",
    "import sys"
   ]
  },
  {
   "cell_type": "markdown",
   "id": "8d0657b2-f118-4331-b3b2-b5a8291def24",
   "metadata": {},
   "source": [
    "## Loading the data"
   ]
  },
  {
   "cell_type": "code",
   "execution_count": 5,
   "id": "4eef1c43-82ed-4426-98af-a6664dd809a2",
   "metadata": {},
   "outputs": [],
   "source": [
    "DATA_FOLDER = \"../data/\"\n",
    "PATHS_AND_GRAPH = DATA_FOLDER + \"wikispeedia_paths-and-graph/\"\n",
    "PATHS_FINISHED = PATHS_AND_GRAPH + \"paths_finished.tsv\"\n",
    "PATHS_UNFINISHED = PATHS_AND_GRAPH + \"paths_unfinished.tsv\""
   ]
  },
  {
   "cell_type": "code",
   "execution_count": 6,
   "id": "5b68e189-2551-4d5e-94d1-bd347e668ec4",
   "metadata": {},
   "outputs": [
    {
     "data": {
      "text/html": [
       "<div>\n",
       "<style scoped>\n",
       "    .dataframe tbody tr th:only-of-type {\n",
       "        vertical-align: middle;\n",
       "    }\n",
       "\n",
       "    .dataframe tbody tr th {\n",
       "        vertical-align: top;\n",
       "    }\n",
       "\n",
       "    .dataframe thead th {\n",
       "        text-align: right;\n",
       "    }\n",
       "</style>\n",
       "<table border=\"1\" class=\"dataframe\">\n",
       "  <thead>\n",
       "    <tr style=\"text-align: right;\">\n",
       "      <th></th>\n",
       "      <th>hashedIpAddress</th>\n",
       "      <th>timestamp</th>\n",
       "      <th>durationInSec</th>\n",
       "      <th>path</th>\n",
       "      <th>rating</th>\n",
       "    </tr>\n",
       "  </thead>\n",
       "  <tbody>\n",
       "    <tr>\n",
       "      <th>0</th>\n",
       "      <td>6a3701d319fc3754</td>\n",
       "      <td>2011-02-15 03:26:49</td>\n",
       "      <td>166</td>\n",
       "      <td>14th_century;15th_century;16th_century;Pacific...</td>\n",
       "      <td>NaN</td>\n",
       "    </tr>\n",
       "    <tr>\n",
       "      <th>1</th>\n",
       "      <td>3824310e536af032</td>\n",
       "      <td>2012-08-12 06:36:52</td>\n",
       "      <td>88</td>\n",
       "      <td>14th_century;Europe;Africa;Atlantic_slave_trad...</td>\n",
       "      <td>3.0</td>\n",
       "    </tr>\n",
       "    <tr>\n",
       "      <th>2</th>\n",
       "      <td>415612e93584d30e</td>\n",
       "      <td>2012-10-03 21:10:40</td>\n",
       "      <td>138</td>\n",
       "      <td>14th_century;Niger;Nigeria;British_Empire;Slav...</td>\n",
       "      <td>NaN</td>\n",
       "    </tr>\n",
       "    <tr>\n",
       "      <th>3</th>\n",
       "      <td>64dd5cd342e3780c</td>\n",
       "      <td>2010-02-08 07:25:25</td>\n",
       "      <td>37</td>\n",
       "      <td>14th_century;Renaissance;Ancient_Greece;Greece</td>\n",
       "      <td>NaN</td>\n",
       "    </tr>\n",
       "    <tr>\n",
       "      <th>4</th>\n",
       "      <td>015245d773376aab</td>\n",
       "      <td>2013-04-23 15:27:08</td>\n",
       "      <td>175</td>\n",
       "      <td>14th_century;Italy;Roman_Catholic_Church;HIV;R...</td>\n",
       "      <td>3.0</td>\n",
       "    </tr>\n",
       "  </tbody>\n",
       "</table>\n",
       "</div>"
      ],
      "text/plain": [
       "    hashedIpAddress           timestamp  durationInSec  \\\n",
       "0  6a3701d319fc3754 2011-02-15 03:26:49            166   \n",
       "1  3824310e536af032 2012-08-12 06:36:52             88   \n",
       "2  415612e93584d30e 2012-10-03 21:10:40            138   \n",
       "3  64dd5cd342e3780c 2010-02-08 07:25:25             37   \n",
       "4  015245d773376aab 2013-04-23 15:27:08            175   \n",
       "\n",
       "                                                path  rating  \n",
       "0  14th_century;15th_century;16th_century;Pacific...     NaN  \n",
       "1  14th_century;Europe;Africa;Atlantic_slave_trad...     3.0  \n",
       "2  14th_century;Niger;Nigeria;British_Empire;Slav...     NaN  \n",
       "3     14th_century;Renaissance;Ancient_Greece;Greece     NaN  \n",
       "4  14th_century;Italy;Roman_Catholic_Church;HIV;R...     3.0  "
      ]
     },
     "execution_count": 6,
     "metadata": {},
     "output_type": "execute_result"
    }
   ],
   "source": [
    "# loading finished paths\n",
    "paths_finished = pd.read_csv(\n",
    "    PATHS_FINISHED,\n",
    "    sep=\"\\t\",\n",
    "    header=None,\n",
    "    names=[\"hashedIpAddress\", \"timestamp\", \"durationInSec\", \"path\", \"rating\"],\n",
    "    encoding=\"utf-8\",\n",
    "    skiprows=16,\n",
    ").copy(deep=True)\n",
    "paths_finished[\"timestamp\"] = pd.to_datetime(paths_finished[\"timestamp\"], unit=\"s\")\n",
    "paths_finished.head()"
   ]
  },
  {
   "cell_type": "code",
   "execution_count": 8,
   "id": "b9590415-6363-4b2c-817b-241d46dfb5a0",
   "metadata": {},
   "outputs": [
    {
     "data": {
      "text/html": [
       "<div>\n",
       "<style scoped>\n",
       "    .dataframe tbody tr th:only-of-type {\n",
       "        vertical-align: middle;\n",
       "    }\n",
       "\n",
       "    .dataframe tbody tr th {\n",
       "        vertical-align: top;\n",
       "    }\n",
       "\n",
       "    .dataframe thead th {\n",
       "        text-align: right;\n",
       "    }\n",
       "</style>\n",
       "<table border=\"1\" class=\"dataframe\">\n",
       "  <thead>\n",
       "    <tr style=\"text-align: right;\">\n",
       "      <th></th>\n",
       "      <th>hashedIpAddress</th>\n",
       "      <th>timestamp</th>\n",
       "      <th>durationInSec</th>\n",
       "      <th>path</th>\n",
       "      <th>target</th>\n",
       "      <th>type</th>\n",
       "    </tr>\n",
       "  </thead>\n",
       "  <tbody>\n",
       "    <tr>\n",
       "      <th>0</th>\n",
       "      <td>2426091a53125110</td>\n",
       "      <td>2011-02-07 05:02:15</td>\n",
       "      <td>1804</td>\n",
       "      <td>Obi-Wan_Kenobi</td>\n",
       "      <td>Microsoft</td>\n",
       "      <td>timeout</td>\n",
       "    </tr>\n",
       "    <tr>\n",
       "      <th>1</th>\n",
       "      <td>26141fd878806294</td>\n",
       "      <td>2011-02-07 05:14:11</td>\n",
       "      <td>1805</td>\n",
       "      <td>Julius_Caesar</td>\n",
       "      <td>Caracas</td>\n",
       "      <td>timeout</td>\n",
       "    </tr>\n",
       "    <tr>\n",
       "      <th>2</th>\n",
       "      <td>2b015fb8181c48f2</td>\n",
       "      <td>2011-02-07 15:00:19</td>\n",
       "      <td>1818</td>\n",
       "      <td>Malawi;Democracy;Alexander_the_Great</td>\n",
       "      <td>First_Crusade</td>\n",
       "      <td>timeout</td>\n",
       "    </tr>\n",
       "    <tr>\n",
       "      <th>3</th>\n",
       "      <td>53a53bc244e08a6a</td>\n",
       "      <td>2011-02-07 16:06:01</td>\n",
       "      <td>49</td>\n",
       "      <td>Paraguay</td>\n",
       "      <td>Mount_St._Helens</td>\n",
       "      <td>restart</td>\n",
       "    </tr>\n",
       "    <tr>\n",
       "      <th>4</th>\n",
       "      <td>53a53bc244e08a6a</td>\n",
       "      <td>2011-02-07 17:18:25</td>\n",
       "      <td>1808</td>\n",
       "      <td>Paraguay;Bolivia</td>\n",
       "      <td>Mount_St._Helens</td>\n",
       "      <td>timeout</td>\n",
       "    </tr>\n",
       "  </tbody>\n",
       "</table>\n",
       "</div>"
      ],
      "text/plain": [
       "    hashedIpAddress           timestamp  durationInSec  \\\n",
       "0  2426091a53125110 2011-02-07 05:02:15           1804   \n",
       "1  26141fd878806294 2011-02-07 05:14:11           1805   \n",
       "2  2b015fb8181c48f2 2011-02-07 15:00:19           1818   \n",
       "3  53a53bc244e08a6a 2011-02-07 16:06:01             49   \n",
       "4  53a53bc244e08a6a 2011-02-07 17:18:25           1808   \n",
       "\n",
       "                                   path            target     type  \n",
       "0                        Obi-Wan_Kenobi         Microsoft  timeout  \n",
       "1                         Julius_Caesar           Caracas  timeout  \n",
       "2  Malawi;Democracy;Alexander_the_Great     First_Crusade  timeout  \n",
       "3                              Paraguay  Mount_St._Helens  restart  \n",
       "4                      Paraguay;Bolivia  Mount_St._Helens  timeout  "
      ]
     },
     "execution_count": 8,
     "metadata": {},
     "output_type": "execute_result"
    }
   ],
   "source": [
    "# loading unfinished paths\n",
    "paths_unfinished = pd.read_csv(\n",
    "    PATHS_UNFINISHED,\n",
    "    sep=\"\\t\",\n",
    "    header=None,\n",
    "    names=[\"hashedIpAddress\", \"timestamp\", \"durationInSec\", \"path\", \"target\", \"type\"],\n",
    "    encoding=\"utf-8\",\n",
    "    skiprows=17,\n",
    ").copy(deep=True)\n",
    "paths_unfinished[\"timestamp\"] = pd.to_datetime(paths_unfinished[\"timestamp\"], unit=\"s\")\n",
    "paths_unfinished.head()"
   ]
  },
  {
   "cell_type": "markdown",
   "id": "9e7725f8-7c56-4e33-b5fc-615000d1a784",
   "metadata": {},
   "source": [
    "## Loading additional datasets needed for path length feature"
   ]
  },
  {
   "cell_type": "code",
   "execution_count": 9,
   "id": "b119a033-2dfb-45e0-832d-93665f3a997a",
   "metadata": {},
   "outputs": [
    {
     "data": {
      "text/plain": [
       "0    [0, _, _, _, _, _, 3, 3, 3, 3, 3, 3, 2, 5, 6, ...\n",
       "1    [_, 0, _, _, _, _, 2, 2, 2, 2, 2, 3, 2, 5, 6, ...\n",
       "2    [_, _, 0, _, _, _, 3, 3, 2, 2, 2, 4, 2, 5, 6, ...\n",
       "3    [_, _, _, 0, _, _, 3, 3, 3, 3, 3, 3, 2, 5, 6, ...\n",
       "4    [_, _, _, _, 0, _, 2, 2, 3, 2, 3, 3, 3, 5, 6, ...\n",
       "Name: shortest path, dtype: object"
      ]
     },
     "metadata": {},
     "output_type": "display_data"
    }
   ],
   "source": [
    "# Loading shortest path distance matrix\n",
    "SHORTEST_PATH_MATRIX = PATHS_AND_GRAPH + \"shortest-path-distance-matrix.txt\"\n",
    "shortest_path_distance_matrix = pd.read_csv(\n",
    "    SHORTEST_PATH_MATRIX,\n",
    "    sep=\"\\t\",\n",
    "    names=[\"shortest path\"],\n",
    "    header=None,\n",
    "    encoding=\"utf-8\",\n",
    "    skiprows=17,\n",
    ").copy(deep=True)\n",
    "shortest_path_distance_matrix = shortest_path_distance_matrix[\"shortest path\"].apply(\n",
    "    lambda x: list(x)\n",
    ")  # splitting string into list\n",
    "display(shortest_path_distance_matrix.head())"
   ]
  },
  {
   "cell_type": "code",
   "execution_count": 10,
   "id": "209c5d4b-72eb-4219-833f-61069c715950",
   "metadata": {},
   "outputs": [
    {
     "data": {
      "text/html": [
       "<div>\n",
       "<style scoped>\n",
       "    .dataframe tbody tr th:only-of-type {\n",
       "        vertical-align: middle;\n",
       "    }\n",
       "\n",
       "    .dataframe tbody tr th {\n",
       "        vertical-align: top;\n",
       "    }\n",
       "\n",
       "    .dataframe thead th {\n",
       "        text-align: right;\n",
       "    }\n",
       "</style>\n",
       "<table border=\"1\" class=\"dataframe\">\n",
       "  <thead>\n",
       "    <tr style=\"text-align: right;\">\n",
       "      <th></th>\n",
       "      <th>article name</th>\n",
       "    </tr>\n",
       "  </thead>\n",
       "  <tbody>\n",
       "    <tr>\n",
       "      <th>0</th>\n",
       "      <td>%C3%81ed%C3%A1n_mac_Gabr%C3%A1in</td>\n",
       "    </tr>\n",
       "    <tr>\n",
       "      <th>1</th>\n",
       "      <td>%C3%85land</td>\n",
       "    </tr>\n",
       "    <tr>\n",
       "      <th>2</th>\n",
       "      <td>%C3%89douard_Manet</td>\n",
       "    </tr>\n",
       "    <tr>\n",
       "      <th>3</th>\n",
       "      <td>%C3%89ire</td>\n",
       "    </tr>\n",
       "    <tr>\n",
       "      <th>4</th>\n",
       "      <td>%C3%93engus_I_of_the_Picts</td>\n",
       "    </tr>\n",
       "  </tbody>\n",
       "</table>\n",
       "</div>"
      ],
      "text/plain": [
       "                       article name\n",
       "0  %C3%81ed%C3%A1n_mac_Gabr%C3%A1in\n",
       "1                        %C3%85land\n",
       "2                %C3%89douard_Manet\n",
       "3                         %C3%89ire\n",
       "4        %C3%93engus_I_of_the_Picts"
      ]
     },
     "metadata": {},
     "output_type": "display_data"
    }
   ],
   "source": [
    "# loading articles dataset\n",
    "ARTICLES = PATHS_AND_GRAPH + \"articles.tsv\"\n",
    "articles = pd.read_csv(\n",
    "    ARTICLES,\n",
    "    sep=\"\\t\",\n",
    "    header=None,\n",
    "    encoding=\"utf-8\",\n",
    "    names=[\"article name\"],\n",
    "    skiprows=12,\n",
    ").copy(deep=True)\n",
    "display(articles.head())"
   ]
  },
  {
   "cell_type": "markdown",
   "id": "0c58562d-0fd0-499d-8ab3-31ecf33be665",
   "metadata": {},
   "source": [
    "# Feature 2: Path length and player persistence\n",
    "Are longer paths more challenging? Do they lead to giving up? \\\n",
    "Let's look at path length, ratings and giving up rate.\n",
    "Are longer paths more challenging? Do they lead to giving up? \\\n",
    "Let's look at path length, ratings and giving up rate."
   ]
  },
  {
   "cell_type": "code",
   "execution_count": 25,
   "id": "18739c8d-2d44-4862-a1a3-3a1dd5793fe6",
   "metadata": {},
   "outputs": [
    {
     "name": "stdout",
     "output_type": "stream",
     "text": [
      "1) Removing mistakes from target column...\n",
      "2) Removing back clicks and splitting paths...\n",
      "100%|██████████████████████████████████████████████████████████████████████████| 51318/51318 [00:49<00:00, 1040.64it/s]\n",
      "3) Computing optimal finished path length...\n",
      "100%|███████████████████████████████████████████████████████████████████████████| 51318/51318 [00:59<00:00, 867.12it/s]\n",
      "Mean optimal path length for finished games: 2.85\n",
      "4) Computing optimal unfinished path length...\n",
      "100%|███████████████████████████████████████████████████████████████████████████| 24846/24846 [00:27<00:00, 918.55it/s]\n",
      "Mean optimal path length for unfinished games: 3.23\n",
      "A longer optimal path length might cause more restarts and timouts, this is a metric we can further explore!\n",
      "5) Plotting rating and finished path length...\n"
     ]
    },
    {
     "name": "stderr",
     "output_type": "stream",
     "text": [
      "C:\\Users\\mathi\\anaconda3\\envs\\ada\\lib\\site-packages\\seaborn\\_oldcore.py:1498: FutureWarning: is_categorical_dtype is deprecated and will be removed in a future version. Use isinstance(dtype, CategoricalDtype) instead\n",
      "  if pd.api.types.is_categorical_dtype(vector):\n",
      "C:\\Users\\mathi\\anaconda3\\envs\\ada\\lib\\site-packages\\seaborn\\_oldcore.py:1498: FutureWarning: is_categorical_dtype is deprecated and will be removed in a future version. Use isinstance(dtype, CategoricalDtype) instead\n",
      "  if pd.api.types.is_categorical_dtype(vector):\n",
      "C:\\Users\\mathi\\anaconda3\\envs\\ada\\lib\\site-packages\\seaborn\\_oldcore.py:1498: FutureWarning: is_categorical_dtype is deprecated and will be removed in a future version. Use isinstance(dtype, CategoricalDtype) instead\n",
      "  if pd.api.types.is_categorical_dtype(vector):\n"
     ]
    },
    {
     "data": {
      "image/png": "[encoded data removed]",
      "text/plain": [
       "<Figure size 1000x800 with 1 Axes>"
      ]
     },
     "metadata": {},
     "output_type": "display_data"
    }
   ],
   "source": [
    "# runtime = ~2min30sec\n",
    "\n",
    "paths_finished_copy = paths_finished.copy(deep=True)\n",
    "paths_unfinished_copy = paths_unfinished.copy(deep=True)\n",
    "pd.options.mode.chained_assignment = None  # to remove warning\n",
    "\n",
    "# Delete datapoints from 'paths_unfinished_copy' if 'target' isn't part of article list from 'articles' dataframe\n",
    "print(\"1) Removing mistakes from target column...\")\n",
    "paths_unfinished_copy = paths_unfinished_copy[\n",
    "    paths_unfinished_copy[\"target\"].isin(articles[\"article name\"])\n",
    "]\n",
    "\n",
    "# Removing back clicks (<) and splitting paths\n",
    "print(\"2) Removing back clicks and splitting paths...\")\n",
    "for i in tqdm(range(len(paths_finished_copy)), file=sys.stdout):\n",
    "    paths_finished_copy[\"path\"].iloc[i] = paths_finished_copy[\"path\"].iloc[i].split(\";\")\n",
    "    for item in paths_finished_copy[\"path\"].iloc[i].copy():\n",
    "        if item == \"<\":\n",
    "            paths_finished_copy[\"path\"].iloc[i].remove(item)\n",
    "\n",
    "\n",
    "## Comparing optimal path length between finished and unfinished\n",
    "\n",
    "\n",
    "# function computing optimal path length\n",
    "def mean_optimal_path_length(paths, finished, shortest_path_distance_matrix):\n",
    "    mean = np.zeros((len(paths), 1))\n",
    "    for i in tqdm(range(len(mean)), file=sys.stdout):\n",
    "        if finished == True:\n",
    "            start_article = paths[\"path\"][i][0]\n",
    "            end_article = paths[\"path\"][i][-1]\n",
    "        else:\n",
    "            start_article = paths[\"path\"].iloc[i].split(\";\")[0]\n",
    "            end_article = paths[\"target\"].iloc[i]\n",
    "        start_index = articles[articles[\"article name\"] == start_article].index[0]\n",
    "        end_index = articles[articles[\"article name\"] == end_article].index[0]\n",
    "        if shortest_path_distance_matrix[start_index][end_index] == \"_\":\n",
    "            mean[i] = -1  # removes 'long peper' error !!!\n",
    "        else:\n",
    "            mean[i] = shortest_path_distance_matrix[start_index][end_index]\n",
    "    return mean.mean()\n",
    "\n",
    "\n",
    "print(\"3) Computing optimal finished path length...\")\n",
    "mean_finished_optimal_path_length = mean_optimal_path_length(\n",
    "    paths_finished_copy, True, shortest_path_distance_matrix\n",
    ")  # change to only take unique path datapoints !!!\n",
    "print(\n",
    "    \"Mean optimal path length for finished games:\",\n",
    "    \"%.2f\" % mean_finished_optimal_path_length,\n",
    ")\n",
    "\n",
    "print(\"4) Computing optimal unfinished path length...\")\n",
    "mean_unfinished_optimal_path_length = mean_optimal_path_length(\n",
    "    paths_unfinished_copy, False, shortest_path_distance_matrix\n",
    ")\n",
    "print(\n",
    "    \"Mean optimal path length for unfinished games:\",\n",
    "    \"%.2f\" % mean_unfinished_optimal_path_length,\n",
    ")\n",
    "print(\n",
    "    \"A longer optimal path length might cause more restarts and timouts, this is a metric we can further explore!\"\n",
    ")\n",
    "\n",
    "# Exploring possible correlation between rating and finished path length\n",
    "print(\"5) Plotting rating and finished path length...\")\n",
    "paths_finished_copy_woNan = paths_finished_copy.dropna(\n",
    "    subset=[\"rating\"]\n",
    ")  # Remove nans from the 'rating' columns\n",
    "paths_finished_copy_woNan = paths_finished_copy_woNan[\n",
    "    paths_finished_copy_woNan[\"path\"].apply(lambda x: len(x) <= 200)\n",
    "]  # Remove aberrant path length value\n",
    "\n",
    "\n",
    "fig, ax = plt.subplots(figsize=(10,8))\n",
    "sns.violinplot(x=paths_finished_copy_woNan['rating'], \n",
    "               y=paths_finished_copy_woNan['path'].apply(lambda x: len(x)),\n",
    "               ax=ax, color = 'orange')\n",
    "\n",
    "ax.set_ylabel('Path length')\n",
    "ax.set_xlabel('Rating')\n",
    "ax.set_xticks(ticks=[1,2,3,4,5])\n",
    "plt.title('Path length vs Rating')\n",
    "plt.show()"
   ]
  },
  {
   "cell_type": "markdown",
   "id": "6109caed-db0e-4957-8d5b-640ba5a313ac",
   "metadata": {},
   "source": [
    "There seems to be a positive correlation between path length and rating. \\\n",
    "This is a feature we can potentially use after further testing and investigation.\\\n",
    "The mean optimal path length for finished and unfinished games is also a feature we can further investigate, test, and combine to other features!"
   ]
  },
  {
   "cell_type": "markdown",
   "id": "a9757c20-68c7-4380-8cc9-f528b7e07156",
   "metadata": {},
   "source": [
    "## "
   ]
  }
 ],
 "metadata": {
  "kernelspec": {
   "display_name": "Python 3 (ipykernel)",
   "language": "python",
   "name": "python3"
  },
  "language_info": {
   "codemirror_mode": {
    "name": "ipython",
    "version": 3
   },
   "file_extension": ".py",
   "mimetype": "text/x-python",
   "name": "python",
   "nbconvert_exporter": "python",
   "pygments_lexer": "ipython3",
   "version": "3.9.18"
  }
 },
 "nbformat": 4,
 "nbformat_minor": 5
}
