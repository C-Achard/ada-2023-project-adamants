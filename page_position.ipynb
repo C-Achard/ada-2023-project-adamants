{
 "cells": [
  {
   "cell_type": "code",
   "execution_count": 3,
   "id": "b4ff0e6e-63a7-4d1f-81ff-260cf389599e",
   "metadata": {},
   "outputs": [],
   "source": [
    "import pandas as pd\n",
    "import numpy as np\n",
    "import seaborn as sns\n",
    "import matplotlib.pyplot as plt"
   ]
  },
  {
   "cell_type": "code",
   "execution_count": 4,
   "id": "4eef1c43-82ed-4426-98af-a6664dd809a2",
   "metadata": {},
   "outputs": [],
   "source": [
    "DATA_FOLDER='./data/'\n",
    "PATHS_AND_GRAPH = DATA_FOLDER + 'wikispeedia_paths-and-graph/'\n",
    "PATHS_FINISHED = PATHS_AND_GRAPH + 'paths_finished.tsv'\n",
    "PATHS_UNFINISHED = PATHS_AND_GRAPH + 'paths_unfinished.tsv'"
   ]
  },
  {
   "cell_type": "code",
   "execution_count": 5,
   "id": "5b68e189-2551-4d5e-94d1-bd347e668ec4",
   "metadata": {},
   "outputs": [
    {
     "data": {
      "text/html": [
       "<div>\n",
       "<style scoped>\n",
       "    .dataframe tbody tr th:only-of-type {\n",
       "        vertical-align: middle;\n",
       "    }\n",
       "\n",
       "    .dataframe tbody tr th {\n",
       "        vertical-align: top;\n",
       "    }\n",
       "\n",
       "    .dataframe thead th {\n",
       "        text-align: right;\n",
       "    }\n",
       "</style>\n",
       "<table border=\"1\" class=\"dataframe\">\n",
       "  <thead>\n",
       "    <tr style=\"text-align: right;\">\n",
       "      <th></th>\n",
       "      <th>hashedIpAddress</th>\n",
       "      <th>timestamp</th>\n",
       "      <th>durationInSec</th>\n",
       "      <th>path</th>\n",
       "      <th>rating</th>\n",
       "    </tr>\n",
       "  </thead>\n",
       "  <tbody>\n",
       "    <tr>\n",
       "      <th>0</th>\n",
       "      <td>6a3701d319fc3754</td>\n",
       "      <td>2011-02-15 03:26:49</td>\n",
       "      <td>166</td>\n",
       "      <td>14th_century;15th_century;16th_century;Pacific...</td>\n",
       "      <td>NaN</td>\n",
       "    </tr>\n",
       "    <tr>\n",
       "      <th>1</th>\n",
       "      <td>3824310e536af032</td>\n",
       "      <td>2012-08-12 06:36:52</td>\n",
       "      <td>88</td>\n",
       "      <td>14th_century;Europe;Africa;Atlantic_slave_trad...</td>\n",
       "      <td>3.0</td>\n",
       "    </tr>\n",
       "    <tr>\n",
       "      <th>2</th>\n",
       "      <td>415612e93584d30e</td>\n",
       "      <td>2012-10-03 21:10:40</td>\n",
       "      <td>138</td>\n",
       "      <td>14th_century;Niger;Nigeria;British_Empire;Slav...</td>\n",
       "      <td>NaN</td>\n",
       "    </tr>\n",
       "    <tr>\n",
       "      <th>3</th>\n",
       "      <td>64dd5cd342e3780c</td>\n",
       "      <td>2010-02-08 07:25:25</td>\n",
       "      <td>37</td>\n",
       "      <td>14th_century;Renaissance;Ancient_Greece;Greece</td>\n",
       "      <td>NaN</td>\n",
       "    </tr>\n",
       "    <tr>\n",
       "      <th>4</th>\n",
       "      <td>015245d773376aab</td>\n",
       "      <td>2013-04-23 15:27:08</td>\n",
       "      <td>175</td>\n",
       "      <td>14th_century;Italy;Roman_Catholic_Church;HIV;R...</td>\n",
       "      <td>3.0</td>\n",
       "    </tr>\n",
       "    <tr>\n",
       "      <th>...</th>\n",
       "      <td>...</td>\n",
       "      <td>...</td>\n",
       "      <td>...</td>\n",
       "      <td>...</td>\n",
       "      <td>...</td>\n",
       "    </tr>\n",
       "    <tr>\n",
       "      <th>51313</th>\n",
       "      <td>15a13a1d66ef5456</td>\n",
       "      <td>2012-10-03 02:23:35</td>\n",
       "      <td>66</td>\n",
       "      <td>Yagan;Ancient_Egypt;Civilization</td>\n",
       "      <td>NaN</td>\n",
       "    </tr>\n",
       "    <tr>\n",
       "      <th>51314</th>\n",
       "      <td>2ef7ac844cefda58</td>\n",
       "      <td>2011-03-16 05:42:18</td>\n",
       "      <td>165</td>\n",
       "      <td>Yagan;Folklore;Brothers_Grimm;&lt;;19th_century;C...</td>\n",
       "      <td>3.0</td>\n",
       "    </tr>\n",
       "    <tr>\n",
       "      <th>51315</th>\n",
       "      <td>12863abb7887f890</td>\n",
       "      <td>2013-11-22 04:42:52</td>\n",
       "      <td>228</td>\n",
       "      <td>Yagan;Australia;England;France;United_States;T...</td>\n",
       "      <td>NaN</td>\n",
       "    </tr>\n",
       "    <tr>\n",
       "      <th>51316</th>\n",
       "      <td>19f8284371753362</td>\n",
       "      <td>2011-02-27 07:42:47</td>\n",
       "      <td>56</td>\n",
       "      <td>Yarralumla%2C_Australian_Capital_Territory;Aus...</td>\n",
       "      <td>1.0</td>\n",
       "    </tr>\n",
       "    <tr>\n",
       "      <th>51317</th>\n",
       "      <td>24b84602179de377</td>\n",
       "      <td>2011-10-09 01:11:41</td>\n",
       "      <td>30</td>\n",
       "      <td>Ziad_Jarrah;Germany;Jew</td>\n",
       "      <td>NaN</td>\n",
       "    </tr>\n",
       "  </tbody>\n",
       "</table>\n",
       "<p>51318 rows × 5 columns</p>\n",
       "</div>"
      ],
      "text/plain": [
       "        hashedIpAddress           timestamp  durationInSec  \\\n",
       "0      6a3701d319fc3754 2011-02-15 03:26:49            166   \n",
       "1      3824310e536af032 2012-08-12 06:36:52             88   \n",
       "2      415612e93584d30e 2012-10-03 21:10:40            138   \n",
       "3      64dd5cd342e3780c 2010-02-08 07:25:25             37   \n",
       "4      015245d773376aab 2013-04-23 15:27:08            175   \n",
       "...                 ...                 ...            ...   \n",
       "51313  15a13a1d66ef5456 2012-10-03 02:23:35             66   \n",
       "51314  2ef7ac844cefda58 2011-03-16 05:42:18            165   \n",
       "51315  12863abb7887f890 2013-11-22 04:42:52            228   \n",
       "51316  19f8284371753362 2011-02-27 07:42:47             56   \n",
       "51317  24b84602179de377 2011-10-09 01:11:41             30   \n",
       "\n",
       "                                                    path  rating  \n",
       "0      14th_century;15th_century;16th_century;Pacific...     NaN  \n",
       "1      14th_century;Europe;Africa;Atlantic_slave_trad...     3.0  \n",
       "2      14th_century;Niger;Nigeria;British_Empire;Slav...     NaN  \n",
       "3         14th_century;Renaissance;Ancient_Greece;Greece     NaN  \n",
       "4      14th_century;Italy;Roman_Catholic_Church;HIV;R...     3.0  \n",
       "...                                                  ...     ...  \n",
       "51313                   Yagan;Ancient_Egypt;Civilization     NaN  \n",
       "51314  Yagan;Folklore;Brothers_Grimm;<;19th_century;C...     3.0  \n",
       "51315  Yagan;Australia;England;France;United_States;T...     NaN  \n",
       "51316  Yarralumla%2C_Australian_Capital_Territory;Aus...     1.0  \n",
       "51317                            Ziad_Jarrah;Germany;Jew     NaN  \n",
       "\n",
       "[51318 rows x 5 columns]"
      ]
     },
     "execution_count": 5,
     "metadata": {},
     "output_type": "execute_result"
    }
   ],
   "source": [
    "#data exploration\n",
    "paths_finished = pd.read_csv(PATHS_FINISHED, sep='\\t', header=None, names=['hashedIpAddress', 'timestamp', 'durationInSec', 'path', 'rating'], encoding='utf-8', skiprows=16).copy(deep=True)\n",
    "paths_finished[\"timestamp\"] = pd.to_datetime(paths_finished[\"timestamp\"], unit='s')\n",
    "paths_finished"
   ]
  },
  {
   "cell_type": "code",
   "execution_count": 6,
   "id": "23744334-5014-4c34-b0dd-24d856f0c650",
   "metadata": {},
   "outputs": [
    {
     "data": {
      "text/plain": [
       "['plaintext_articles',\n",
       " 'wikispeedia_articles_html.tar.gz',\n",
       " 'wikispeedia_articles_plaintext.tar.gz',\n",
       " 'wikispeedia_paths-and-graph',\n",
       " 'wikispeedia_paths-and-graph.tar.gz',\n",
       " 'wpcd']"
      ]
     },
     "execution_count": 6,
     "metadata": {},
     "output_type": "execute_result"
    }
   ],
   "source": [
    "import os\n",
    "os.listdir('./data')"
   ]
  },
  {
   "cell_type": "code",
   "execution_count": 7,
   "id": "b9590415-6363-4b2c-817b-241d46dfb5a0",
   "metadata": {},
   "outputs": [
    {
     "data": {
      "text/html": [
       "<div>\n",
       "<style scoped>\n",
       "    .dataframe tbody tr th:only-of-type {\n",
       "        vertical-align: middle;\n",
       "    }\n",
       "\n",
       "    .dataframe tbody tr th {\n",
       "        vertical-align: top;\n",
       "    }\n",
       "\n",
       "    .dataframe thead th {\n",
       "        text-align: right;\n",
       "    }\n",
       "</style>\n",
       "<table border=\"1\" class=\"dataframe\">\n",
       "  <thead>\n",
       "    <tr style=\"text-align: right;\">\n",
       "      <th></th>\n",
       "      <th>hashedIpAddress</th>\n",
       "      <th>timestamp</th>\n",
       "      <th>durationInSec</th>\n",
       "      <th>path</th>\n",
       "      <th>target</th>\n",
       "      <th>type</th>\n",
       "    </tr>\n",
       "  </thead>\n",
       "  <tbody>\n",
       "    <tr>\n",
       "      <th>0</th>\n",
       "      <td>2426091a53125110</td>\n",
       "      <td>2011-02-07 05:02:15</td>\n",
       "      <td>1804</td>\n",
       "      <td>Obi-Wan_Kenobi</td>\n",
       "      <td>Microsoft</td>\n",
       "      <td>timeout</td>\n",
       "    </tr>\n",
       "    <tr>\n",
       "      <th>1</th>\n",
       "      <td>26141fd878806294</td>\n",
       "      <td>2011-02-07 05:14:11</td>\n",
       "      <td>1805</td>\n",
       "      <td>Julius_Caesar</td>\n",
       "      <td>Caracas</td>\n",
       "      <td>timeout</td>\n",
       "    </tr>\n",
       "    <tr>\n",
       "      <th>2</th>\n",
       "      <td>2b015fb8181c48f2</td>\n",
       "      <td>2011-02-07 15:00:19</td>\n",
       "      <td>1818</td>\n",
       "      <td>Malawi;Democracy;Alexander_the_Great</td>\n",
       "      <td>First_Crusade</td>\n",
       "      <td>timeout</td>\n",
       "    </tr>\n",
       "    <tr>\n",
       "      <th>3</th>\n",
       "      <td>53a53bc244e08a6a</td>\n",
       "      <td>2011-02-07 16:06:01</td>\n",
       "      <td>49</td>\n",
       "      <td>Paraguay</td>\n",
       "      <td>Mount_St._Helens</td>\n",
       "      <td>restart</td>\n",
       "    </tr>\n",
       "    <tr>\n",
       "      <th>4</th>\n",
       "      <td>53a53bc244e08a6a</td>\n",
       "      <td>2011-02-07 17:18:25</td>\n",
       "      <td>1808</td>\n",
       "      <td>Paraguay;Bolivia</td>\n",
       "      <td>Mount_St._Helens</td>\n",
       "      <td>timeout</td>\n",
       "    </tr>\n",
       "  </tbody>\n",
       "</table>\n",
       "</div>"
      ],
      "text/plain": [
       "    hashedIpAddress           timestamp  durationInSec  \\\n",
       "0  2426091a53125110 2011-02-07 05:02:15           1804   \n",
       "1  26141fd878806294 2011-02-07 05:14:11           1805   \n",
       "2  2b015fb8181c48f2 2011-02-07 15:00:19           1818   \n",
       "3  53a53bc244e08a6a 2011-02-07 16:06:01             49   \n",
       "4  53a53bc244e08a6a 2011-02-07 17:18:25           1808   \n",
       "\n",
       "                                   path            target     type  \n",
       "0                        Obi-Wan_Kenobi         Microsoft  timeout  \n",
       "1                         Julius_Caesar           Caracas  timeout  \n",
       "2  Malawi;Democracy;Alexander_the_Great     First_Crusade  timeout  \n",
       "3                              Paraguay  Mount_St._Helens  restart  \n",
       "4                      Paraguay;Bolivia  Mount_St._Helens  timeout  "
      ]
     },
     "execution_count": 7,
     "metadata": {},
     "output_type": "execute_result"
    }
   ],
   "source": [
    "paths_unfinished= pd.read_csv(PATHS_UNFINISHED, sep='\\t', header=None, names=['hashedIpAddress', 'timestamp', 'durationInSec', 'path', 'target', 'type'], encoding='utf-8', skiprows=17).copy(deep=True)\n",
    "paths_unfinished[\"timestamp\"] = pd.to_datetime(paths_unfinished[\"timestamp\"], unit='s')\n",
    "paths_unfinished.head()"
   ]
  },
  {
   "cell_type": "markdown",
   "id": "819321fb-84b4-445b-afa6-fca3e7a40042",
   "metadata": {},
   "source": [
    "## Find position of second link in successive pairs"
   ]
  },
  {
   "cell_type": "code",
   "execution_count": 8,
   "id": "6ce02788-9d5d-4606-ad10-b2e874a2072f",
   "metadata": {},
   "outputs": [
    {
     "data": {
      "text/plain": [
       "['14th_century',\n",
       " 'Time',\n",
       " 'Science',\n",
       " 'Nature',\n",
       " 'Weather',\n",
       " 'Sunlight',\n",
       " 'Sun',\n",
       " 'Earth%27s_atmosphere',\n",
       " 'Ultraviolet',\n",
       " 'Color',\n",
       " 'Light',\n",
       " 'Rainbow']"
      ]
     },
     "execution_count": 8,
     "metadata": {},
     "output_type": "execute_result"
    }
   ],
   "source": [
    "# algo pour elever < et split paths\n",
    "from tqdm import tqdm\n",
    "pd.options.mode.chained_assignment = None  # Check whether this is ok !!\n",
    "\n",
    "paths_finished_copy = paths_finished.copy()\n",
    "for i in tqmd(range(len(paths_finished_copy))):\n",
    "    paths_finished_copy['path'].iloc[i] = paths_finished_copy['path'].iloc[i].split(';')\n",
    "    for item in paths_finished_copy['path'].iloc[i].copy():\n",
    "        if (item == '<'):\n",
    "            paths_finished_copy['path'].iloc[i].remove(item)\n",
    "\n",
    "paths_finished_copy.path.iloc[10]"
   ]
  },
  {
   "cell_type": "code",
   "execution_count": 9,
   "id": "56c54b91-4d84-4b9e-bfb9-b1f78f9d2b4b",
   "metadata": {},
   "outputs": [
    {
     "name": "stdout",
     "output_type": "stream",
     "text": [
      "51318\n",
      "[('14th_century', '15th_century'), ('15th_century', '16th_century'), ('16th_century', 'Pacific_Ocean'), ('Pacific_Ocean', 'Atlantic_Ocean'), ('Atlantic_Ocean', 'Accra'), ('Accra', 'Africa'), ('Africa', 'Atlantic_slave_trade'), ('Atlantic_slave_trade', 'African_slave_trade')]\n",
      "15th_century\n"
     ]
    }
   ],
   "source": [
    "successive_pairs = [[(x[i], x[i+1]) for i in range(len(x) - 1)] for x in paths_finished_copy['path'].to_list()]\n",
    "print(len(successive_pairs))\n",
    "print(successive_pairs[0])\n",
    "print(successive_pairs[0][0][1])"
   ]
  },
  {
   "cell_type": "code",
   "execution_count": 10,
   "id": "57a28905-89d5-4639-8985-2750e4908970",
   "metadata": {},
   "outputs": [],
   "source": [
    "def path_to_plaintext(article_name):\n",
    "    article_name_undsc = article_name.replace(\" \", \"_\")\n",
    "    ALL_PLAINTEXT = \"./data/plaintext_articles/\"\n",
    "    path = ALL_PLAINTEXT + article_name_undsc + \".txt\"\n",
    "    return path "
   ]
  },
  {
   "cell_type": "code",
   "execution_count": 11,
   "id": "8038c877-130d-4017-ae71-25c9c4d8a17a",
   "metadata": {},
   "outputs": [],
   "source": [
    "# find word count to link on html page for second element in successive_pairs in first elements html page "
   ]
  },
  {
   "cell_type": "code",
   "execution_count": 27,
   "id": "84da4e9d-4fc9-4a7d-adbc-f70bc9f91a63",
   "metadata": {},
   "outputs": [
    {
     "name": "stdout",
     "output_type": "stream",
     "text": [
      "('Ancient_Greece', 'Greece') \n",
      " 23\n"
     ]
    }
   ],
   "source": [
    "# function version 4\n",
    "def find_word_position(successive_pair):\n",
    "    target_words = successive_pair[1].replace(\"_\", \" \")\n",
    "    article = path_to_plaintext(successive_pair[0])\n",
    "\n",
    "    with open(article,encoding = \"utf8\") as file:\n",
    "        content = file.read()\n",
    "        try:\n",
    "            return content.index(target_words)\n",
    "        except:\n",
    "            #print(f\"The group of words '{successive_pair[1]}' was not found in the file '{successive_pair[0]}'.\")\n",
    "            return 0\n",
    "\n",
    "print(successive_pairs[3][2],'\\n',find_word_position(successive_pairs[3][2]))"
   ]
  },
  {
   "cell_type": "code",
   "execution_count": 13,
   "id": "480149eb-dcb8-4c98-b812-d6e9cc998343",
   "metadata": {},
   "outputs": [],
   "source": [
    "from bs4 import BeautifulSoup"
   ]
  },
  {
   "cell_type": "code",
   "execution_count": 20,
   "id": "5bec2f0c-128c-4e20-8e0a-6e4602cf53a9",
   "metadata": {},
   "outputs": [
    {
     "data": {
      "text/plain": [
       "420"
      ]
     },
     "execution_count": 20,
     "metadata": {},
     "output_type": "execute_result"
    }
   ],
   "source": [
    "paths_and_len = paths_finished_copy[['path']].copy()\n",
    "paths_and_len['path'] = paths_and_len['path'].apply(lambda x: len(x))\n",
    "max_path_length = paths_and_len['path'].max()\n",
    "max_path_length"
   ]
  },
  {
   "cell_type": "code",
   "execution_count": 21,
   "id": "79e5e2e6-ffcd-4817-9f66-a774f8a207cc",
   "metadata": {},
   "outputs": [
    {
     "name": "stdout",
     "output_type": "stream",
     "text": [
      "51318 51318\n"
     ]
    }
   ],
   "source": [
    "print(len(paths_finished_copy), len(successive_pairs))"
   ]
  },
  {
   "cell_type": "code",
   "execution_count": 23,
   "id": "1a835d34-bbee-4c1c-bdb3-e41ee87e91ec",
   "metadata": {},
   "outputs": [
    {
     "name": "stderr",
     "output_type": "stream",
     "text": [
      "100%|██████████████████████████████████████████████████████████████████████████| 51318/51318 [00:46<00:00, 1094.91it/s]"
     ]
    },
    {
     "name": "stdout",
     "output_type": "stream",
     "text": [
      "[[  214.   214. 10681. ...     0.     0.     0.]\n",
      " [ 1090.  1106. 12629. ...     0.     0.     0.]\n",
      " [ 2328.  1644.     0. ...     0.     0.     0.]\n",
      " ...\n",
      " [  878.  5370. 17550. ...     0.     0.     0.]\n",
      " [   27. 11539.     0. ...     0.     0.     0.]\n",
      " [ 2875. 16760.     0. ...     0.     0.     0.]]\n"
     ]
    },
    {
     "name": "stderr",
     "output_type": "stream",
     "text": [
      "\n"
     ]
    }
   ],
   "source": [
    "from tqdm import tqdm\n",
    "# compute position for every pair in finished paths\n",
    "positions_of_next_clicked_link = np.zeros((len(successive_pairs), max_path_length - 1))\n",
    "for i in tqdm(range(len(successive_pairs))):\n",
    "    for j in range(len(successive_pairs[i])):\n",
    "        positions_of_next_clicked_link[i,j] = find_word_position(successive_pairs[i][j])\n",
    "print(positions_of_next_clicked_link)"
   ]
  },
  {
   "cell_type": "code",
   "execution_count": 34,
   "id": "271efdb3-f6e4-47f2-aa0b-a726d535dabf",
   "metadata": {},
   "outputs": [
    {
     "data": {
      "text/plain": [
       "8401.920231066066"
      ]
     },
     "execution_count": 34,
     "metadata": {},
     "output_type": "execute_result"
    }
   ],
   "source": [
    "average_position = positions_of_next_clicked_link[np.nonzero(positions_of_next_clicked_link)].mean()\n",
    "average_position"
   ]
  },
  {
   "cell_type": "code",
   "execution_count": 38,
   "id": "1f38b7d7-05e7-45be-bfcb-b9bfcc269ad9",
   "metadata": {},
   "outputs": [
    {
     "data": {
      "text/plain": [
       "397.4"
      ]
     },
     "execution_count": 38,
     "metadata": {},
     "output_type": "execute_result"
    }
   ],
   "source": [
    "# average of words per seable page in wkispeedia : this will build our threshold\n",
    "# (i did it with word), need to do it more rigourosly \n",
    "word_data = np.array([337, 491, 349, 323, 402, 414, 361, 425, 423, 449])\n",
    "threshold = word_data.mean()\n",
    "threshold"
   ]
  },
  {
   "cell_type": "code",
   "execution_count": 55,
   "id": "d5bd8f4b-2e01-430b-896b-e9ba5ff80a60",
   "metadata": {},
   "outputs": [
    {
     "name": "stdout",
     "output_type": "stream",
     "text": [
      "Under count 29825 \n",
      "Over count 142247\n"
     ]
    },
    {
     "data": {
      "image/png": "[encoded data removed]",
      "text/plain": [
       "<Figure size 640x480 with 1 Axes>"
      ]
     },
     "metadata": {},
     "output_type": "display_data"
    }
   ],
   "source": [
    "# compare successive pairs over or under threshold\n",
    "under_threshold = np.count_nonzero(positions_of_next_clicked_link[np.nonzero(positions_of_next_clicked_link)] < threshold)\n",
    "over_threshold = np.count_nonzero(positions_of_next_clicked_link[np.nonzero(positions_of_next_clicked_link)] > threshold)\n",
    "print('Under count', under_threshold, '\\nOver count', over_threshold)\n",
    "\n",
    "groups = ['under', 'over']\n",
    "counts = [under_threshold, over_threshold]\n",
    "bar_labels = ['under', 'over']\n",
    "bar_colors = ['tab:red', 'tab:orange']\n",
    "plt.bar(groups, counts, label=bar_labels, color=bar_colors)\n",
    "plt.ylabel('successive pair count')\n",
    "plt.title('over vs under scrolling page threshold')\n",
    "plt.show()"
   ]
  },
  {
   "cell_type": "markdown",
   "id": "ea16faf9-def5-45eb-9fb6-b9209fdba955",
   "metadata": {},
   "source": [
    "We can defenitely use this metric! \\\n",
    "Do not know how we could analyse it further tho... \\\n",
    "Conclusion can be drawn now"
   ]
  }
 ],
 "metadata": {
  "kernelspec": {
   "display_name": "Python 3 (ipykernel)",
   "language": "python",
   "name": "python3"
  },
  "language_info": {
   "codemirror_mode": {
    "name": "ipython",
    "version": 3
   },
   "file_extension": ".py",
   "mimetype": "text/x-python",
   "name": "python",
   "nbconvert_exporter": "python",
   "pygments_lexer": "ipython3",
   "version": "3.9.18"
  }
 },
 "nbformat": 4,
 "nbformat_minor": 5
}
